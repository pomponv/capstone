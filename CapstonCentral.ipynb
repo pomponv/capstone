{
 "cells": [
  {
   "cell_type": "markdown",
   "id": "cd45e7cc-214d-40b4-9387-4da3bc8d48d1",
   "metadata": {},
   "source": [
    "# Capston projet"
   ]
  },
  {
   "cell_type": "markdown",
   "id": "64227900-cccf-4a22-8988-82e64c3234e2",
   "metadata": {},
   "source": [
    "# initialisation du projet"
   ]
  },
  {
   "cell_type": "code",
   "execution_count": 1,
   "id": "628470e1-4dcc-4a5a-9233-cad246b5fa6d",
   "metadata": {},
   "outputs": [],
   "source": [
    "# chargement des librairies\n",
    "import pandas as pd\n",
    "import numpy as np\n",
    "import seaborn as sns\n",
    "import matplotlib.pyplot as plt"
   ]
  },
  {
   "cell_type": "code",
   "execution_count": null,
   "id": "010aed67-b211-444c-a10a-4187bcec8b9a",
   "metadata": {},
   "outputs": [],
   "source": []
  }
 ],
 "metadata": {
  "kernelspec": {
   "display_name": "Python 3 (ipykernel)",
   "language": "python",
   "name": "python3"
  },
  "language_info": {
   "codemirror_mode": {
    "name": "ipython",
    "version": 3
   },
   "file_extension": ".py",
   "mimetype": "text/x-python",
   "name": "python",
   "nbconvert_exporter": "python",
   "pygments_lexer": "ipython3",
   "version": "3.11.7"
  }
 },
 "nbformat": 4,
 "nbformat_minor": 5
}
